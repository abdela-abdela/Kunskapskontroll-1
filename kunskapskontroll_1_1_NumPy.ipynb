{
 "cells": [
  {
   "cell_type": "markdown",
   "id": "dacf74e6",
   "metadata": {},
   "source": [
    "# NumPy"
   ]
  },
  {
   "cell_type": "markdown",
   "id": "01b2bf34",
   "metadata": {},
   "source": [
    "Read the links: https://numpy.org/doc/stable/user/quickstart.html  and https://numpy.org/doc/stable/user/basics.broadcasting.html  before solving the exercises. "
   ]
  },
  {
   "cell_type": "code",
   "execution_count": 5,
   "id": "1f79e4a6",
   "metadata": {},
   "outputs": [],
   "source": [
    "import numpy as np"
   ]
  },
  {
   "cell_type": "markdown",
   "id": "7dae6889",
   "metadata": {},
   "source": [
    "### Print out the dimension (number of axes), shape, size and the datatype of the matrix A."
   ]
  },
  {
   "cell_type": "code",
   "execution_count": 6,
   "id": "7b3678cd",
   "metadata": {},
   "outputs": [],
   "source": [
    "A = np.arange(1, 16).reshape(3,5)"
   ]
  },
  {
   "cell_type": "code",
   "execution_count": 5,
   "id": "31d39235",
   "metadata": {},
   "outputs": [
    {
     "name": "stdout",
     "output_type": "stream",
     "text": [
      "Dimension: 2\n",
      "Shape: (3, 5)\n",
      "Size: 15\n",
      "Data type: int32\n"
     ]
    }
   ],
   "source": [
    "print(\"Dimension:\", A.ndim) \n",
    "print(\"Shape:\", A.shape) \n",
    "print(\"Size:\", A.size)\n",
    "print(\"Data type:\", A.dtype) "
   ]
  },
  {
   "cell_type": "markdown",
   "id": "e56d2a96",
   "metadata": {},
   "source": [
    "### Do the following computations on the matrices B and C: \n",
    "* Elementwise subtraction. \n",
    "* Elementwise multiplication. \n",
    "* Matrix multiplication (by default you should use the @ operator)."
   ]
  },
  {
   "cell_type": "code",
   "execution_count": 13,
   "id": "a7053fbb",
   "metadata": {},
   "outputs": [
    {
     "name": "stdout",
     "output_type": "stream",
     "text": [
      "B: \n",
      "[[1 2 3]\n",
      " [4 5 6]\n",
      " [7 8 9]]\n",
      "\n",
      "C: \n",
      "[[2. 2. 2.]\n",
      " [2. 2. 2.]\n",
      " [2. 2. 2.]]\n"
     ]
    }
   ],
   "source": [
    "B = np.arange(1, 10).reshape(3, 3)\n",
    "C = np.ones((3, 3))*2\n",
    "\n",
    "print(\"B: \")\n",
    "print(B)\n",
    "print()\n",
    "print(\"C: \")\n",
    "print(C)"
   ]
  },
  {
   "cell_type": "code",
   "execution_count": 42,
   "id": "3cd794ae",
   "metadata": {},
   "outputs": [
    {
     "name": "stdout",
     "output_type": "stream",
     "text": [
      "Elementwise subtraction\n",
      "\n",
      "[[-1.  0.  1.]\n",
      " [ 2.  3.  4.]\n",
      " [ 5.  6.  7.]]\n"
     ]
    }
   ],
   "source": [
    "subtraction = B - C \n",
    "print(\"Elementwise subtraction\")\n",
    "print()\n",
    "print(subtraction)\n"
   ]
  },
  {
   "cell_type": "code",
   "execution_count": 17,
   "id": "f087da4f",
   "metadata": {},
   "outputs": [
    {
     "name": "stdout",
     "output_type": "stream",
     "text": [
      "Elementwise multiplication\n",
      "\n",
      "[[ 2.  4.  6.]\n",
      " [ 8. 10. 12.]\n",
      " [14. 16. 18.]]\n"
     ]
    }
   ],
   "source": [
    "multiplication = B * C \n",
    "print(\"Elementwise multiplication\")\n",
    "print()\n",
    "print(multiplication)"
   ]
  },
  {
   "cell_type": "code",
   "execution_count": 16,
   "id": "fa780902",
   "metadata": {},
   "outputs": [
    {
     "name": "stdout",
     "output_type": "stream",
     "text": [
      "Matrix multiplication\n",
      "\n",
      "[[12. 12. 12.]\n",
      " [30. 30. 30.]\n",
      " [48. 48. 48.]]\n"
     ]
    }
   ],
   "source": [
    "matrix_multiplication = B @ C\n",
    "print(\"Matrix multiplication\")\n",
    "print()\n",
    "print(matrix_multiplication)\n"
   ]
  },
  {
   "cell_type": "markdown",
   "id": "96030d53",
   "metadata": {},
   "source": [
    "### Do the following calculations on the matrix:\n",
    "* Exponentiate each number elementwise (use the np.exp function).\n",
    "\n",
    "* Calculate the minimum value in the whole matrix. \n",
    "* Calculcate the minimum value in each row. \n",
    "* Calculcate the minimum value in each column. \n",
    "\n",
    "\n",
    "* Find the index value for the minimum value in the whole matrix (hint: use np.argmin).\n",
    "* Find the index value for the minimum value in each row (hint: use np.argmin).\n",
    "\n",
    "\n",
    "* Calculate the sum for all elements.\n",
    "* Calculate the mean for each column. \n",
    "* Calculate the median for each column. "
   ]
  },
  {
   "cell_type": "code",
   "execution_count": 18,
   "id": "f8a9166b",
   "metadata": {},
   "outputs": [
    {
     "name": "stdout",
     "output_type": "stream",
     "text": [
      "[[1 2 3]\n",
      " [4 5 6]\n",
      " [7 8 9]]\n"
     ]
    }
   ],
   "source": [
    "B = np.arange(1, 10).reshape(3, 3)\n",
    "print(B)"
   ]
  },
  {
   "cell_type": "code",
   "execution_count": 45,
   "id": "f03f24f7",
   "metadata": {},
   "outputs": [
    {
     "name": "stdout",
     "output_type": "stream",
     "text": [
      "Exponent_value: \n",
      "\n",
      "[[2.71828183e+00 7.38905610e+00 2.00855369e+01]\n",
      " [5.45981500e+01 1.48413159e+02 4.03428793e+02]\n",
      " [1.09663316e+03 2.98095799e+03 8.10308393e+03]]\n"
     ]
    }
   ],
   "source": [
    "Exponent = np.exp(B)\n",
    "print(\"Exponent_value: \")\n",
    "print()\n",
    "print(Exponent)"
   ]
  },
  {
   "cell_type": "code",
   "execution_count": 46,
   "id": "afc7f57c",
   "metadata": {},
   "outputs": [
    {
     "name": "stdout",
     "output_type": "stream",
     "text": [
      "Minimum value in B: 1\n"
     ]
    }
   ],
   "source": [
    "min_value = np.min(B)\n",
    "print(\"Minimum value in B:\", min_value)"
   ]
  },
  {
   "cell_type": "code",
   "execution_count": 21,
   "id": "63b74160",
   "metadata": {},
   "outputs": [
    {
     "name": "stdout",
     "output_type": "stream",
     "text": [
      "Minimum value in each row: [1 4 7]\n"
     ]
    }
   ],
   "source": [
    "min_rows = np.min(B, axis=1)\n",
    "print(\"Minimum value in each row:\", min_rows)"
   ]
  },
  {
   "cell_type": "code",
   "execution_count": 22,
   "id": "1c90f40d",
   "metadata": {},
   "outputs": [
    {
     "name": "stdout",
     "output_type": "stream",
     "text": [
      "Minimum value in each column: [1 2 3]\n"
     ]
    }
   ],
   "source": [
    "min_column = np.min(B, axis=0)\n",
    "print(\"Minimum value in each column:\", min_column)"
   ]
  },
  {
   "cell_type": "code",
   "execution_count": 23,
   "id": "eb7a0df1",
   "metadata": {},
   "outputs": [
    {
     "name": "stdout",
     "output_type": "stream",
     "text": [
      "Index of the minimum value: 0\n"
     ]
    }
   ],
   "source": [
    "min_index = np.argmin(B)\n",
    "print(\"Index of the minimum value:\", min_index)"
   ]
  },
  {
   "cell_type": "code",
   "execution_count": 24,
   "id": "8e484808",
   "metadata": {},
   "outputs": [
    {
     "name": "stdout",
     "output_type": "stream",
     "text": [
      "Index of the minimum value in each row: [0 0 0]\n"
     ]
    }
   ],
   "source": [
    "min_index_rows = np.argmin(B, axis=1)\n",
    "print(\"Index of the minimum value in each row:\", min_index_rows)"
   ]
  },
  {
   "cell_type": "code",
   "execution_count": 25,
   "id": "86daf340",
   "metadata": {},
   "outputs": [
    {
     "name": "stdout",
     "output_type": "stream",
     "text": [
      "45\n"
     ]
    }
   ],
   "source": [
    "sum_all_elements = np.sum(B)\n",
    "print(sum_all_elements)"
   ]
  },
  {
   "cell_type": "code",
   "execution_count": 26,
   "id": "a07048b6",
   "metadata": {},
   "outputs": [
    {
     "name": "stdout",
     "output_type": "stream",
     "text": [
      "[4. 5. 6.]\n"
     ]
    }
   ],
   "source": [
    "mean_column = np.mean(B, axis=0)\n",
    "print(mean_column)"
   ]
  },
  {
   "cell_type": "code",
   "execution_count": 27,
   "id": "02728dc9",
   "metadata": {},
   "outputs": [
    {
     "name": "stdout",
     "output_type": "stream",
     "text": [
      "[4. 5. 6.]\n"
     ]
    }
   ],
   "source": [
    "median_column = np.median(B, axis=0)\n",
    "print(median_column)"
   ]
  },
  {
   "cell_type": "markdown",
   "id": "541eb7ba",
   "metadata": {},
   "source": [
    "### What does it mean when you provide fewer indices than axes when slicing? See example below."
   ]
  },
  {
   "cell_type": "code",
   "execution_count": 33,
   "id": "9c8abf56",
   "metadata": {},
   "outputs": [
    {
     "name": "stdout",
     "output_type": "stream",
     "text": [
      "[[ 1  2  3  4  5]\n",
      " [ 6  7  8  9 10]\n",
      " [11 12 13 14 15]]\n"
     ]
    }
   ],
   "source": [
    "print(A)"
   ]
  },
  {
   "cell_type": "code",
   "execution_count": 31,
   "id": "69415f7b",
   "metadata": {},
   "outputs": [
    {
     "data": {
      "text/plain": [
       "array([ 6,  7,  8,  9, 10])"
      ]
     },
     "execution_count": 31,
     "metadata": {},
     "output_type": "execute_result"
    }
   ],
   "source": [
    "A[1]"
   ]
  },
  {
   "cell_type": "markdown",
   "id": "6c53541b",
   "metadata": {},
   "source": [
    "**Answer:**"
   ]
  },
  {
   "cell_type": "code",
   "execution_count": 32,
   "id": "de01e120",
   "metadata": {},
   "outputs": [],
   "source": [
    "# It means that NumPy complets the remaining indices on the second row A[1] along the missing axes (column)."
   ]
  },
  {
   "cell_type": "markdown",
   "id": "6652d0c9",
   "metadata": {},
   "source": [
    "### Iterating over multidimensional arrays is done with respect to the first axis, so in the example below we iterate trough the rows. If you would like to iterate through the array *elementwise*, how would you do that?"
   ]
  },
  {
   "cell_type": "code",
   "execution_count": 7,
   "id": "9459864f",
   "metadata": {},
   "outputs": [
    {
     "data": {
      "text/plain": [
       "array([[ 1,  2,  3,  4,  5],\n",
       "       [ 6,  7,  8,  9, 10],\n",
       "       [11, 12, 13, 14, 15]])"
      ]
     },
     "execution_count": 7,
     "metadata": {},
     "output_type": "execute_result"
    }
   ],
   "source": [
    "A"
   ]
  },
  {
   "cell_type": "code",
   "execution_count": 8,
   "id": "a671bb5a",
   "metadata": {},
   "outputs": [
    {
     "name": "stdout",
     "output_type": "stream",
     "text": [
      "[1 2 3 4 5]\n",
      "[ 6  7  8  9 10]\n",
      "[11 12 13 14 15]\n"
     ]
    }
   ],
   "source": [
    "for i in A:\n",
    "    print(i)"
   ]
  },
  {
   "cell_type": "code",
   "execution_count": 12,
   "id": "f4e443a0",
   "metadata": {},
   "outputs": [
    {
     "name": "stdout",
     "output_type": "stream",
     "text": [
      "1\n",
      "2\n",
      "3\n",
      "4\n",
      "5\n",
      "6\n",
      "7\n",
      "8\n",
      "9\n",
      "10\n",
      "11\n",
      "12\n",
      "13\n",
      "14\n",
      "15\n"
     ]
    }
   ],
   "source": [
    "# Ett sätt att göra det är att använda np.flat funktionen.\n",
    "for i in A.flat:\n",
    "    print(i)"
   ]
  },
  {
   "cell_type": "markdown",
   "id": "608a2583",
   "metadata": {},
   "source": [
    "### Explain what the code below does. More specifically, b has three axes - what does this mean? "
   ]
  },
  {
   "cell_type": "code",
   "execution_count": 47,
   "id": "f8f9b26f",
   "metadata": {},
   "outputs": [
    {
     "name": "stdout",
     "output_type": "stream",
     "text": [
      "[ 0  1  2  3  4  5  6  7  8  9 10 11 12 13 14 15 16 17 18 19 20 21 22 23\n",
      " 24 25 26 27 28 29]\n",
      "\n",
      "[[[ 0  1  2  3  4]\n",
      "  [ 5  6  7  8  9]\n",
      "  [10 11 12 13 14]]\n",
      "\n",
      " [[15 16 17 18 19]\n",
      "  [20 21 22 23 24]\n",
      "  [25 26 27 28 29]]]\n"
     ]
    }
   ],
   "source": [
    "a = np.arange(30)\n",
    "b = a.reshape((2, 3, -1))\n",
    "print(a)\n",
    "print()\n",
    "print(b)"
   ]
  },
  {
   "cell_type": "code",
   "execution_count": null,
   "id": "863a45df",
   "metadata": {},
   "outputs": [],
   "source": [
    "#The code prints out a 3D dimension array upto 29. 2 specifies the number of layers, 3 represents the number of rows while -1 allows numpy to reshape the remaining dimension (column)."
   ]
  },
  {
   "cell_type": "markdown",
   "id": "ab5933d5",
   "metadata": {},
   "source": [
    "### Broadcasting\n",
    "**Read the following link about broadcasting: https://numpy.org/doc/stable/user/basics.broadcasting.html#basics-broadcasting**"
   ]
  },
  {
   "cell_type": "markdown",
   "id": "039805ba",
   "metadata": {},
   "source": [
    "# Remark on Broadcasting when doing Linear Algebra calculations in Python. "
   ]
  },
  {
   "cell_type": "markdown",
   "id": "c4bcc147",
   "metadata": {},
   "source": [
    "### From the mathematical rules of matrix addition, the operation below (m1 + m2) does not make sense. The reason is that matrix addition requires two matrices of the same size. In Python however, it works due to broadcasting rules in NumPy. So you must be careful when doing Linear Algebra calculations in Python since they do not follow the \"mathematical rules\". This can however easily be handled by doing some simple programming, for example validating that two matrices have the same shape is easy if you for instance want to add two matrices. "
   ]
  },
  {
   "cell_type": "code",
   "execution_count": 37,
   "id": "1fd46778",
   "metadata": {},
   "outputs": [
    {
     "name": "stdout",
     "output_type": "stream",
     "text": [
      "[[2 3]\n",
      " [4 5]]\n"
     ]
    }
   ],
   "source": [
    "m1 = np.array([[1, 2], [3, 4]])\n",
    "m2 = np.array([1, 1])\n",
    "print(m1 + m2)"
   ]
  },
  {
   "cell_type": "markdown",
   "id": "047d6576",
   "metadata": {},
   "source": [
    "### The example below would also not be allowed if following the \"mathematical rules\" in Linear Algebra. But it works due to broadcasting in NumPy. "
   ]
  },
  {
   "cell_type": "code",
   "execution_count": 38,
   "id": "5e6ef2e4",
   "metadata": {},
   "outputs": [
    {
     "name": "stdout",
     "output_type": "stream",
     "text": [
      "[2 3 4]\n"
     ]
    }
   ],
   "source": [
    "v1 = np.array([1, 2, 3])\n",
    "print(v1 + 1)"
   ]
  },
  {
   "cell_type": "code",
   "execution_count": 39,
   "id": "e2cbae26",
   "metadata": {},
   "outputs": [
    {
     "name": "stdout",
     "output_type": "stream",
     "text": [
      "[[1 2]\n",
      " [3 4]]\n",
      "[2 2]\n"
     ]
    }
   ],
   "source": [
    "A = np.arange(1, 5).reshape(2,2)\n",
    "print(A)\n",
    "\n",
    "b = np.array([2, 2])\n",
    "print(b)"
   ]
  },
  {
   "cell_type": "markdown",
   "id": "722fd5cd",
   "metadata": {},
   "source": [
    "# Vector- and matrix algebra Exercises"
   ]
  },
  {
   "cell_type": "markdown",
   "id": "b63a3081-d976-4d9f-bfd0-a63917e79f7d",
   "metadata": {},
   "source": [
    "**Now you are going to create a function that can be reused every time you add or multiply matrices. The function is created so that we do the addition and multiplication according to the rules of vector- and matrix algebra.**\n",
    "\n",
    "**Create a function \"add_mult_matrices\" that takes two matrices as input arguments (validate that the input are of the type numpy.ndarray by using the isinstance function), a third argument that is either 'add' or 'multiply' that specifies if you want to add or multiply the matrices (validate that the third argument is either 'add' or 'multiply'). When doing matrix addition, validate that the matrices have the same size. When doing matrix multiplication, validate that the sizes conform (i.e. number of columns in the first matrix is equal to the number of rows in the second matrix).**"
   ]
  },
  {
   "cell_type": "code",
   "execution_count": null,
   "id": "3506f977-ac0a-473f-85bc-eec9f35dc498",
   "metadata": {},
   "outputs": [],
   "source": [
    "def add_mult_matrices(matrix1, matrix2, operation):\n",
    "\n",
    "    if not isinstance(matrix1, np.ndarray) or not isinstance(matrix2, np.ndarray):\n",
    "        raise ValueError(\"Inputs must be of type numpy.ndarray\")\n",
    "\n",
    "    if operation not in ['add', 'multiply']:\n",
    "        raise ValueError(\"Operation must be either 'add' or 'multiply'\")\n",
    "    \n",
    "    if operation == 'add':\n",
    "        if matrix1.shape != matrix2.shape:\n",
    "            raise ValueError(\"Matrices must have the same dimension size\")\n",
    "        return np.add(matrix1, matrix2)\n",
    "\n",
    "    elif operation == 'multiply':\n",
    "        if matrix1.shape[1] != matrix2.shape[0]:\n",
    "            raise ValueError(\"Operation failed. Number of columns in the first matrix must be equal to the number of rows in the second matrix.\")\n",
    "        return np.multiply(matrix1, matrix2)\n"
   ]
  },
  {
   "cell_type": "markdown",
   "id": "8dad82d0-2359-4dff-8f5b-a57d3e34103c",
   "metadata": {},
   "source": [
    "### Solve all the exercises in chapter 10.1 in the book \"Matematik för yrkeshögskolan\". "
   ]
  },
  {
   "cell_type": "markdown",
   "id": "63f7813c",
   "metadata": {},
   "source": [
    "#### Upggift 10.1.1"
   ]
  },
  {
   "cell_type": "code",
   "execution_count": null,
   "id": "89df88af-3668-4d98-a0a4-e6d92eea0f89",
   "metadata": {},
   "outputs": [],
   "source": [
    "# A) Vilken dimension har x = (4, 3)\n",
    "# X har dimensionen 1 x 2 vilket betyder att den har en enda rad och två kolumner."
   ]
  },
  {
   "cell_type": "code",
   "execution_count": 1,
   "id": "aa291435",
   "metadata": {},
   "outputs": [
    {
     "data": {
      "text/plain": [
       "(20, 15)"
      ]
     },
     "execution_count": 1,
     "metadata": {},
     "output_type": "execute_result"
    }
   ],
   "source": [
    "x = (4, 3)\n",
    "# B) Beräkna 5x?\n",
    "result = tuple(5 * i for i in x)\n",
    "result"
   ]
  },
  {
   "cell_type": "code",
   "execution_count": 2,
   "id": "507e5957",
   "metadata": {},
   "outputs": [
    {
     "data": {
      "text/plain": [
       "(32, 24)"
      ]
     },
     "execution_count": 2,
     "metadata": {},
     "output_type": "execute_result"
    }
   ],
   "source": [
    "# D) Beräkna 5x + 3x?\n",
    "result = tuple((5 + 3) * i for i in x)\n",
    "result"
   ]
  },
  {
   "cell_type": "code",
   "execution_count": 3,
   "id": "07b0e111",
   "metadata": {},
   "outputs": [
    {
     "data": {
      "text/plain": [
       "(32, 24)"
      ]
     },
     "execution_count": 3,
     "metadata": {},
     "output_type": "execute_result"
    }
   ],
   "source": [
    "# E) Beräkna 8x?\n",
    "result = tuple(8 * i for i in x)\n",
    "result"
   ]
  },
  {
   "cell_type": "code",
   "execution_count": 4,
   "id": "1b5c3c79",
   "metadata": {},
   "outputs": [
    {
     "data": {
      "text/plain": [
       "(12, 9)"
      ]
     },
     "execution_count": 4,
     "metadata": {},
     "output_type": "execute_result"
    }
   ],
   "source": [
    "# F) Beräkna 4x - x?\n",
    "result = tuple((4 - 1) * i for i in x)\n",
    "result"
   ]
  },
  {
   "cell_type": "code",
   "execution_count": 4,
   "id": "5bf569b8",
   "metadata": {},
   "outputs": [
    {
     "data": {
      "text/plain": [
       "array([[4],\n",
       "       [3]])"
      ]
     },
     "execution_count": 4,
     "metadata": {},
     "output_type": "execute_result"
    }
   ],
   "source": [
    "# G) Beräkna x^T?\n",
    "x = np.array([4, 3])\n",
    "x_transponat = x.reshape(-1, 1)\n",
    "x_transponat\n",
    "#Den nya dimensionen blir 2 x 1, alltså två rader och en kolumn."
   ]
  },
  {
   "cell_type": "code",
   "execution_count": null,
   "id": "8937d73c",
   "metadata": {},
   "outputs": [],
   "source": [
    "# H) HÄr x + x^T definierat?\n",
    "# Funktionen är inte definierat eftersom dimensionerna i båda inte är samma. X har dimensionen 1 x 2 medan x^T har dimensionen 2 x 1.\n"
   ]
  },
  {
   "cell_type": "code",
   "execution_count": 5,
   "id": "d32cccf4",
   "metadata": {},
   "outputs": [
    {
     "data": {
      "text/plain": [
       "5.0"
      ]
     },
     "execution_count": 5,
     "metadata": {},
     "output_type": "execute_result"
    }
   ],
   "source": [
    "# I) Beräkna ||X||?\n",
    "normen_x = np.linalg.norm(x)\n",
    "normen_x"
   ]
  },
  {
   "cell_type": "markdown",
   "id": "a11b785d",
   "metadata": {},
   "source": [
    "#### Upggift 10.1.2"
   ]
  },
  {
   "cell_type": "code",
   "execution_count": 15,
   "id": "0ccf49a6",
   "metadata": {},
   "outputs": [
    {
     "data": {
      "text/plain": [
       "array([[ 3],\n",
       "       [ 7],\n",
       "       [ 0],\n",
       "       [11]])"
      ]
     },
     "execution_count": 15,
     "metadata": {},
     "output_type": "execute_result"
    }
   ],
   "source": [
    "# Definiera vektorn v enligt nedan\n",
    "v = np.array([[3], [7], [0], [11]])\n",
    "v\n",
    "# a) Vektorn har dimension 4 x 1 eftersom den har 4 rader och en kolumn.\n"
   ]
  },
  {
   "cell_type": "code",
   "execution_count": 17,
   "id": "2d74dbaa",
   "metadata": {},
   "outputs": [
    {
     "data": {
      "text/plain": [
       "array([[ 6],\n",
       "       [14],\n",
       "       [ 0],\n",
       "       [22]])"
      ]
     },
     "execution_count": 17,
     "metadata": {},
     "output_type": "execute_result"
    }
   ],
   "source": [
    "# b) Beräkna 2v?\n",
    "result = 2 * v\n",
    "result"
   ]
  },
  {
   "cell_type": "code",
   "execution_count": 19,
   "id": "9e2301f2",
   "metadata": {},
   "outputs": [
    {
     "data": {
      "text/plain": [
       "array([[21],\n",
       "       [49],\n",
       "       [ 0],\n",
       "       [77]])"
      ]
     },
     "execution_count": 19,
     "metadata": {},
     "output_type": "execute_result"
    }
   ],
   "source": [
    "# c) Beräkna 5v + 2v?\n",
    "result = 5 * v + 2 * v\n",
    "result"
   ]
  },
  {
   "cell_type": "code",
   "execution_count": 20,
   "id": "24e47f15",
   "metadata": {},
   "outputs": [
    {
     "data": {
      "text/plain": [
       "array([[ 6],\n",
       "       [14],\n",
       "       [ 0],\n",
       "       [22]])"
      ]
     },
     "execution_count": 20,
     "metadata": {},
     "output_type": "execute_result"
    }
   ],
   "source": [
    "# d) Beräkna 4v - 2v?\n",
    "result = 4 * v - 2 * v\n",
    "result"
   ]
  },
  {
   "cell_type": "code",
   "execution_count": 28,
   "id": "26137985",
   "metadata": {},
   "outputs": [
    {
     "data": {
      "text/plain": [
       "array([[ 3,  7,  0, 11]])"
      ]
     },
     "execution_count": 28,
     "metadata": {},
     "output_type": "execute_result"
    }
   ],
   "source": [
    "# e) Beräkna v^T?\n",
    "v_transponat = v.reshape(1, -1)\n",
    "v_transponat\n",
    "# Vektorn fick en 1 x 4 dimension istället för en 4 x 1 dimension."
   ]
  },
  {
   "cell_type": "code",
   "execution_count": 29,
   "id": "2fe7e7aa",
   "metadata": {},
   "outputs": [
    {
     "data": {
      "text/plain": [
       "13.379088160259652"
      ]
     },
     "execution_count": 29,
     "metadata": {},
     "output_type": "execute_result"
    }
   ],
   "source": [
    "# f) Beräkna ||V||?\n",
    "normen_v = np.linalg.norm(v)\n",
    "normen_v"
   ]
  },
  {
   "cell_type": "markdown",
   "id": "d74970ca",
   "metadata": {},
   "source": [
    "#### Uppgift 10.1.3. "
   ]
  },
  {
   "cell_type": "code",
   "execution_count": 37,
   "id": "11fc6574",
   "metadata": {},
   "outputs": [
    {
     "data": {
      "text/plain": [
       "7.14142842854285"
      ]
     },
     "execution_count": 37,
     "metadata": {},
     "output_type": "execute_result"
    }
   ],
   "source": [
    "# a) Beräkna ∥v1∥?\n",
    "v1 = np.array([4, 3, 1, 5])\n",
    "v2 = np.array([2, 3, 1, 1])\n",
    "\n",
    "normen_v1 = np.linalg.norm(v1)\n",
    "normen_v1\n"
   ]
  },
  {
   "cell_type": "code",
   "execution_count": 36,
   "id": "7aac4d9c",
   "metadata": {},
   "outputs": [
    {
     "data": {
      "text/plain": [
       "4.47213595499958"
      ]
     },
     "execution_count": 36,
     "metadata": {},
     "output_type": "execute_result"
    }
   ],
   "source": [
    "# b) Beräkna ∥v1 − v2∥?\n",
    "subtraktion = v1 - v2\n",
    "normen_subtraktion = np.linalg.norm(subtraktion)\n",
    "normen_subtraktion"
   ]
  },
  {
   "cell_type": "markdown",
   "id": "75c98984-1f88-4df1-b850-d2466de444a5",
   "metadata": {},
   "source": [
    "### Solve all the exercises, except 10.2.4, in chapter 10.2 in the book \"Matematik för yrkeshögskolan\". "
   ]
  },
  {
   "cell_type": "markdown",
   "id": "681d8325",
   "metadata": {},
   "source": [
    "#### Uppgift 10.2.1 - Definiera matriserna:\n"
   ]
  },
  {
   "cell_type": "code",
   "execution_count": 28,
   "id": "65371610-16e1-48b2-b7fb-65e49002608a",
   "metadata": {},
   "outputs": [],
   "source": [
    "A = np.array([[2, 1, -1],[1, -1, 1]])\n",
    "\n",
    "B = np.array([[4, -2, 1],[2, -4, -2]])\n",
    "\n",
    "C = np.array([[1, 2],[2, 1]])\n",
    "\n",
    "D = np.array([[3, 4],[4, 3]])\n",
    "\n",
    "E = np.array([[1],[2]])\n",
    "\n",
    "I = np.array([[1, 0],[0, 1]])"
   ]
  },
  {
   "cell_type": "code",
   "execution_count": 36,
   "id": "bbe6d9c9",
   "metadata": {},
   "outputs": [
    {
     "name": "stdout",
     "output_type": "stream",
     "text": [
      "A:\n",
      " [[ 4  2 -2]\n",
      " [ 2 -2  2]]\n",
      "B:\n",
      " [[ 0 -4  3]\n",
      " [ 0 -2 -4]]\n",
      "C:\n",
      " [[ 1  4]\n",
      " [ 2 -1]]\n",
      "D:\n",
      " [[3 2]\n",
      " [2 3]]\n",
      "E:\n",
      " [[ 9 12]\n",
      " [12  9]]\n",
      "F:\n",
      " [[-4 -4]\n",
      " [-4 -4]]\n",
      "I:\n",
      " [[11 10]\n",
      " [10 11]]\n",
      "J:\n",
      " [[  8 -10  -3]\n",
      " [ 10  -8   0]]\n",
      "K:\n",
      " [[1 2]\n",
      " [2 1]]\n",
      "L:\n",
      " [[5 2]\n",
      " [7 4]]\n"
     ]
    }
   ],
   "source": [
    "# a) 2A\n",
    "result_A = 2 * A\n",
    "\n",
    "# b) B - 2A\n",
    "result_B = B - result_A\n",
    "\n",
    "# C) 3C - 2E\n",
    "result_C = 3 * C - 2 * E\n",
    "\n",
    "# D) 2D - 3C\n",
    "result_D = 2 * D - 3 * C\n",
    "\n",
    "# E) D^T + 2D\n",
    "result_E = D.T + 2 * D\n",
    "\n",
    "# F) 2C^T - 2D^T\n",
    "result_F = 2 * C.T - 2 * D.T\n",
    "\n",
    "# G) A^T - B\n",
    "# Funktionen är inte definierat eftersom matriserna inte har samma dimensioner.\n",
    "\n",
    "# H) AC\n",
    "# Matrisen är inte definierat eftersom antal kolumner i A inte överensstämmer med antal rader i C.\n",
    "\n",
    "# I) CD\n",
    "result_I = C @ D\n",
    "\n",
    "# J) CB\n",
    "result_J = C @ B\n",
    "\n",
    "# K) CI\n",
    "result_K = C @ I\n",
    "\n",
    "# L) AB^T\n",
    "result_L = A @ B.T\n",
    "\n",
    "print(\"A:\\n\", result_A)\n",
    "print(\"B:\\n\", result_B)\n",
    "print(\"C:\\n\", result_C)\n",
    "print(\"D:\\n\", result_D)\n",
    "print(\"E:\\n\", result_E)\n",
    "print(\"F:\\n\", result_F)\n",
    "print(\"I:\\n\", result_I)\n",
    "print(\"J:\\n\", result_J)\n",
    "print(\"K:\\n\", result_K)\n",
    "print(\"L:\\n\", result_L)"
   ]
  },
  {
   "cell_type": "markdown",
   "id": "93fe5dd3",
   "metadata": {},
   "source": [
    "#### Uppgift 10.2.2. - Definiera matrisen"
   ]
  },
  {
   "cell_type": "code",
   "execution_count": 39,
   "id": "1b76232f",
   "metadata": {},
   "outputs": [
    {
     "data": {
      "text/plain": [
       "array([[29, 26],\n",
       "       [26, 42]])"
      ]
     },
     "execution_count": 39,
     "metadata": {},
     "output_type": "execute_result"
    }
   ],
   "source": [
    "A = np.array([[2, 3, 4],[5, 4, 1]])\n",
    "\n",
    "result = A @ A.T\n",
    "result"
   ]
  },
  {
   "cell_type": "markdown",
   "id": "4b527cfa",
   "metadata": {},
   "source": [
    "#### Uppgift 10.2.3. - Definiera matriserna\n"
   ]
  },
  {
   "cell_type": "code",
   "execution_count": 47,
   "id": "b67c3e07",
   "metadata": {},
   "outputs": [
    {
     "name": "stdout",
     "output_type": "stream",
     "text": [
      "AB:\n",
      " [[ 4  7]\n",
      " [ 8 14]]\n",
      "AC:\n",
      " [[ 4  7]\n",
      " [ 8 14]]\n",
      "B = C?:\n",
      " False\n"
     ]
    }
   ],
   "source": [
    "A = np.array([[1, 2],[2, 4]])\n",
    "B = np.array([[2, 1],[1, 3]])\n",
    "C = np.array([[4, 3],[0, 2]])\n",
    "\n",
    "AB = A @ B\n",
    "AC = A @ C\n",
    "\n",
    "print(\"AB:\\n\", AB)\n",
    "print(\"AC:\\n\", AC)\n",
    "print(\"B = C?:\\n\", np.array_equal(B, C)) \n",
    "# Vi kan se att AB matrisen är lika med AC matrisen.\n",
    "# Med hjälp av den inbyggda funktionen np.array_equal kan vi ta reda på om B är lika med C."
   ]
  },
  {
   "cell_type": "markdown",
   "id": "6a4a524f",
   "metadata": {},
   "source": [
    "### Copies and Views\n",
    "Read the following link: https://numpy.org/doc/stable/user/basics.copies.html"
   ]
  },
  {
   "cell_type": "markdown",
   "id": "6cbbeaf7",
   "metadata": {},
   "source": [
    "**Basic indexing creates a view, How can you check if v1 and v2 is a view or copy? If you change the last element in v2 to 123, will the last element in v1 be changed? Why?**"
   ]
  },
  {
   "cell_type": "code",
   "execution_count": 49,
   "id": "5b9ef4df",
   "metadata": {},
   "outputs": [
    {
     "name": "stdout",
     "output_type": "stream",
     "text": [
      "[0 1 2 3]\n",
      "[2 3]\n"
     ]
    }
   ],
   "source": [
    "v1 = np.arange(4)\n",
    "v2 = v1[-2:]\n",
    "print(v1)\n",
    "print(v2)"
   ]
  },
  {
   "cell_type": "code",
   "execution_count": 50,
   "id": "d2440489",
   "metadata": {},
   "outputs": [
    {
     "name": "stdout",
     "output_type": "stream",
     "text": [
      "None\n",
      "[0 1 2 3]\n"
     ]
    }
   ],
   "source": [
    "# The base attribute of a view returns the original array while it returns None for a copy.\n",
    "print(v1.base)\n",
    "print(v2.base)"
   ]
  },
  {
   "cell_type": "code",
   "execution_count": 51,
   "id": "c8752807",
   "metadata": {},
   "outputs": [
    {
     "name": "stdout",
     "output_type": "stream",
     "text": [
      "[  0   1   2 123]\n",
      "[  2 123]\n"
     ]
    }
   ],
   "source": [
    "# The last element in v1 will be changed aswell since v2 is a view, meaning they share the same data buffer.\n",
    "v2[-1] = 123\n",
    "print(v1)\n",
    "print(v2)"
   ]
  }
 ],
 "metadata": {
  "kernelspec": {
   "display_name": "base",
   "language": "python",
   "name": "python3"
  },
  "language_info": {
   "codemirror_mode": {
    "name": "ipython",
    "version": 3
   },
   "file_extension": ".py",
   "mimetype": "text/x-python",
   "name": "python",
   "nbconvert_exporter": "python",
   "pygments_lexer": "ipython3",
   "version": "3.12.4"
  }
 },
 "nbformat": 4,
 "nbformat_minor": 5
}
